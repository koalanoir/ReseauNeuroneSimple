{
  "nbformat": 4,
  "nbformat_minor": 0,
  "metadata": {
    "colab": {
      "provenance": [],
      "authorship_tag": "ABX9TyOI6IshBMYJZRXqpbCec8qU",
      "include_colab_link": true
    },
    "kernelspec": {
      "name": "python3",
      "display_name": "Python 3"
    },
    "language_info": {
      "name": "python"
    }
  },
  "cells": [
    {
      "cell_type": "markdown",
      "metadata": {
        "id": "view-in-github",
        "colab_type": "text"
      },
      "source": [
        "<a href=\"https://colab.research.google.com/github/koalanoir/ReseauNeuroneSimple/blob/main/ReseauDeNeuronnesSimple.ipynb\" target=\"_parent\"><img src=\"https://colab.research.google.com/assets/colab-badge.svg\" alt=\"Open In Colab\"/></a>"
      ]
    },
    {
      "cell_type": "code",
      "execution_count": 1,
      "metadata": {
        "id": "Vr19z_S_WIAP"
      },
      "outputs": [],
      "source": [
        "import numpy as np # linear algebra"
      ]
    },
    {
      "cell_type": "code",
      "source": [
        "#définition des entrées x , des poids w et du target yv\n",
        "x=np.array([\n",
        "    [1,0,0],\n",
        "     [1,0,1],\n",
        "      [1,1,0],\n",
        "       [1,1,1]])\n",
        "w=np.array([0.3,0.1,-0.2])\n",
        "yv=np.array([0,0,0,1])\n",
        "u=0.5"
      ],
      "metadata": {
        "id": "b0r3kcF9XohI"
      },
      "execution_count": 108,
      "outputs": []
    },
    {
      "cell_type": "code",
      "source": [
        "\n",
        "def h(x):\n",
        "  if x>0:\n",
        "    return 1\n",
        "  else:\n",
        "    return 0\n"
      ],
      "metadata": {
        "id": "HtrIMVYRZB-f"
      },
      "execution_count": 109,
      "outputs": []
    },
    {
      "cell_type": "code",
      "source": [
        "#apprentissage\n",
        "iter=len(x)\n",
        "it=1\n",
        "while end:\n",
        "  print(\"nb iteration : \"+it)\n",
        "  it+=1\n",
        "  end=False\n",
        "  for i in range(iter):\n",
        "    a=np.inner(x[i],w)\n",
        "    y=h(a)\n",
        "    err=yv[i]-y\n",
        "    e=True\n",
        "    if err!=0:\n",
        "      e=False\n",
        "    w=w+u*err*x[i]\n",
        "\n",
        "    print(\"target \"+str(i)+\" : \")\n",
        "    print(str(x[i])+\" -> \"+str(y))\n",
        "    print(\"error \"+str(i)+\" : \"+str(e))\n",
        "    if e==False:\n",
        "      print(str(x[i])+\" -> \"+str(yv[i]))\n",
        "    print(iter)\n",
        "    #condition d'arret\n",
        "    if err!=0:\n",
        "      end=True\n",
        "\n",
        "\n"
      ],
      "metadata": {
        "id": "pBHeIJ7kcFSk"
      },
      "execution_count": 110,
      "outputs": []
    },
    {
      "cell_type": "code",
      "source": [],
      "metadata": {
        "id": "y3ekXi-Ab5JV"
      },
      "execution_count": null,
      "outputs": []
    }
  ]
}