{
  "nbformat": 4,
  "nbformat_minor": 0,
  "metadata": {
    "colab": {
      "provenance": [],
      "authorship_tag": "ABX9TyNZ6YYtpuE35/NDBf2Gnruh",
      "include_colab_link": true
    },
    "kernelspec": {
      "name": "python3",
      "display_name": "Python 3"
    },
    "language_info": {
      "name": "python"
    }
  },
  "cells": [
    {
      "cell_type": "markdown",
      "metadata": {
        "id": "view-in-github",
        "colab_type": "text"
      },
      "source": [
        "<a href=\"https://colab.research.google.com/github/koalanoir/ReseauNeuroneSimple/blob/main/ReseauDeNeuronnesSimple.ipynb\" target=\"_parent\"><img src=\"https://colab.research.google.com/assets/colab-badge.svg\" alt=\"Open In Colab\"/></a>"
      ]
    },
    {
      "cell_type": "code",
      "execution_count": 1,
      "metadata": {
        "id": "Vr19z_S_WIAP"
      },
      "outputs": [],
      "source": [
        "import numpy as np # linear algebra"
      ]
    },
    {
      "cell_type": "code",
      "source": [
        "x=np.array([\n",
        "    [1,0,0],\n",
        "     [1,0,1],\n",
        "      [1,1,0],\n",
        "       [1,1,1]])\n",
        "w=np.array([0.3,0.1,-0.2])\n",
        "yv=np.array([0,0,0,1])"
      ],
      "metadata": {
        "id": "b0r3kcF9XohI"
      },
      "execution_count": 96,
      "outputs": []
    },
    {
      "cell_type": "code",
      "source": [
        "u=0.5"
      ],
      "metadata": {
        "id": "da6Hxy9zbVfg"
      },
      "execution_count": 97,
      "outputs": []
    },
    {
      "cell_type": "code",
      "source": [
        "def h(x):\n",
        "  if x>0:\n",
        "    return 1\n",
        "  else:\n",
        "    return 0\n"
      ],
      "metadata": {
        "id": "HtrIMVYRZB-f"
      },
      "execution_count": 53,
      "outputs": []
    },
    {
      "cell_type": "markdown",
      "source": [],
      "metadata": {
        "id": "v0jJN1UgiQUX"
      }
    },
    {
      "cell_type": "code",
      "source": [],
      "metadata": {
        "id": "jx54nQH2iP4i"
      },
      "execution_count": null,
      "outputs": []
    },
    {
      "cell_type": "code",
      "source": [
        "a=np.inner(x,w)\n",
        "y=h(a)\n",
        "err=yv-y\n",
        "print(y)\n",
        "print(err)"
      ],
      "metadata": {
        "colab": {
          "base_uri": "https://localhost:8080/"
        },
        "id": "QpfxD4DOYKfc",
        "outputId": "303d007d-691a-4e7b-f503-e2dca8c8fad3"
      },
      "execution_count": 21,
      "outputs": [
        {
          "output_type": "stream",
          "name": "stdout",
          "text": [
            "0.15999999999999998\n",
            "19.84\n"
          ]
        }
      ]
    },
    {
      "cell_type": "code",
      "source": [
        "w=w+u*err*x\n",
        "print(w)"
      ],
      "metadata": {
        "colab": {
          "base_uri": "https://localhost:8080/"
        },
        "id": "2x89cRcCa1Ug",
        "outputId": "627329b3-6a22-4183-c0cc-87b5a4412502"
      },
      "execution_count": 30,
      "outputs": [
        {
          "output_type": "stream",
          "name": "stdout",
          "text": [
            "[11.739992  -9.0519936  3.2319976]\n"
          ]
        }
      ]
    },
    {
      "cell_type": "code",
      "source": [
        "print(x)"
      ],
      "metadata": {
        "colab": {
          "base_uri": "https://localhost:8080/"
        },
        "id": "9OoeB-bxa8J4",
        "outputId": "ef08e3b6-1ac5-44fa-efa0-439f67405899"
      },
      "execution_count": 67,
      "outputs": [
        {
          "output_type": "stream",
          "name": "stdout",
          "text": [
            "[[1 0 0]\n",
            " [1 0 1]\n",
            " [1 1 0]\n",
            " [1 1 1]]\n"
          ]
        }
      ]
    },
    {
      "cell_type": "code",
      "source": [
        "end=False\n",
        "iter=len(x)\n",
        "it=1\n",
        "while end==False:\n",
        "  print(it)\n",
        "  it+=1\n",
        "  for i in range(iter):\n",
        "    a=np.inner(x[i],w)\n",
        "    y=h(a)\n",
        "    err=yv[i]-y\n",
        "    e=True\n",
        "    if err!=0:\n",
        "      e=False\n",
        "    w=w+u*err*x[i]\n",
        "    print(\"target \"+str(i)+\" : \")\n",
        "    print(str(x[i])+\" -> \"+str(y))\n",
        "    print(\"error \"+str(i)+\" : \"+str(e))\n",
        "    if e==False:\n",
        "      print(str(x[i])+\" -> \"+str(yv[i]))\n",
        "    print(iter)\n",
        "    if err==0:\n",
        "      iter-=1\n",
        "    else:\n",
        "      iter=len(x)\n",
        "    if err==0 and iter==0:\n",
        "      end=True\n",
        "\n",
        "\n"
      ],
      "metadata": {
        "colab": {
          "base_uri": "https://localhost:8080/"
        },
        "id": "pBHeIJ7kcFSk",
        "outputId": "7a0626b6-a8db-4141-cf66-7d5775ad39f8"
      },
      "execution_count": 98,
      "outputs": [
        {
          "output_type": "stream",
          "name": "stdout",
          "text": [
            "1\n",
            "target 0 : \n",
            "[1 0 0] -> 1\n",
            "error 0 : False\n",
            "[1 0 0] -> 0\n",
            "4\n",
            "target 1 : \n",
            "[1 0 1] -> 0\n",
            "error 1 : True\n",
            "4\n",
            "target 2 : \n",
            "[1 1 0] -> 0\n",
            "error 2 : True\n",
            "3\n",
            "target 3 : \n",
            "[1 1 1] -> 0\n",
            "error 3 : False\n",
            "[1 1 1] -> 1\n",
            "2\n",
            "2\n",
            "target 0 : \n",
            "[1 0 0] -> 1\n",
            "error 0 : False\n",
            "[1 0 0] -> 0\n",
            "4\n",
            "target 1 : \n",
            "[1 0 1] -> 1\n",
            "error 1 : False\n",
            "[1 0 1] -> 0\n",
            "4\n",
            "target 2 : \n",
            "[1 1 0] -> 0\n",
            "error 2 : True\n",
            "4\n",
            "target 3 : \n",
            "[1 1 1] -> 0\n",
            "error 3 : False\n",
            "[1 1 1] -> 1\n",
            "3\n",
            "3\n",
            "target 0 : \n",
            "[1 0 0] -> 0\n",
            "error 0 : True\n",
            "4\n",
            "target 1 : \n",
            "[1 0 1] -> 1\n",
            "error 1 : False\n",
            "[1 0 1] -> 0\n",
            "3\n",
            "target 2 : \n",
            "[1 1 0] -> 1\n",
            "error 2 : False\n",
            "[1 1 0] -> 0\n",
            "4\n",
            "target 3 : \n",
            "[1 1 1] -> 0\n",
            "error 3 : False\n",
            "[1 1 1] -> 1\n",
            "4\n",
            "4\n",
            "target 0 : \n",
            "[1 0 0] -> 0\n",
            "error 0 : True\n",
            "4\n",
            "target 1 : \n",
            "[1 0 1] -> 0\n",
            "error 1 : True\n",
            "3\n",
            "target 2 : \n",
            "[1 1 0] -> 1\n",
            "error 2 : False\n",
            "[1 1 0] -> 0\n",
            "2\n",
            "target 3 : \n",
            "[1 1 1] -> 0\n",
            "error 3 : False\n",
            "[1 1 1] -> 1\n",
            "4\n",
            "5\n",
            "target 0 : \n",
            "[1 0 0] -> 0\n",
            "error 0 : True\n",
            "4\n",
            "target 1 : \n",
            "[1 0 1] -> 1\n",
            "error 1 : False\n",
            "[1 0 1] -> 0\n",
            "3\n",
            "target 2 : \n",
            "[1 1 0] -> 0\n",
            "error 2 : True\n",
            "4\n",
            "target 3 : \n",
            "[1 1 1] -> 1\n",
            "error 3 : True\n",
            "3\n",
            "6\n",
            "target 0 : \n",
            "[1 0 0] -> 0\n",
            "error 0 : True\n",
            "2\n",
            "target 1 : \n",
            "[1 0 1] -> 0\n",
            "error 1 : True\n",
            "1\n"
          ]
        }
      ]
    },
    {
      "cell_type": "code",
      "source": [],
      "metadata": {
        "id": "y3ekXi-Ab5JV"
      },
      "execution_count": null,
      "outputs": []
    }
  ]
}